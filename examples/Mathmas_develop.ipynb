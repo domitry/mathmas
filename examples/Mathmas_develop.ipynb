{
 "metadata": {
  "language": "ruby",
  "name": ""
 },
 "nbformat": 3,
 "nbformat_minor": 0,
 "worksheets": [
  {
   "cells": [
    {
     "cell_type": "code",
     "collapsed": false,
     "input": [
      "require 'mathmas'"
     ],
     "language": "python",
     "metadata": {},
     "outputs": [
      {
       "html": [
        "<script type='text/javascript'>if(window['d3'] === undefined ||\n",
        "   window['Nyaplot'] === undefined){\n",
        "    var path = {\"d3\":\"http://d3js.org/d3.v3.min\"};\n",
        "\n",
        "\n",
        "\n",
        "    var shim = {\"d3\":{\"exports\":\"d3\"}};\n",
        "\n",
        "    require.config({paths: path, shim:shim});\n",
        "\n",
        "\n",
        "require(['d3'], function(d3){window['d3']=d3;console.log('finished loading d3');\n",
        "\n",
        "\tvar script = d3.select(\"head\")\n",
        "\t    .append(\"script\")\n",
        "\t    .attr(\"src\", \"https://rawgit.com/domitry/Nyaplotjs/master/release/nyaplot.js\")\n",
        "\t    .attr(\"async\", true);\n",
        "\n",
        "\tscript[0][0].onload = script[0][0].onreadystatechange = function(){\n",
        "\n",
        "\n",
        "\t    var event = document.createEvent(\"HTMLEvents\");\n",
        "\t    event.initEvent(\"load_nyaplot\",false,false);\n",
        "\t    window.dispatchEvent(event);\n",
        "\t    console.log('Finished loading Nyaplotjs');\n",
        "\n",
        "\t};\n",
        "\n",
        "\n",
        "});\n",
        "}\n",
        "</script>"
       ],
       "metadata": {},
       "output_type": "pyout",
       "prompt_number": 1,
       "text": [
        "\"if(window['d3'] === undefined ||\\n   window['Nyaplot'] === undefined){\\n    var path = {\\\"d3\\\":\\\"http://d3js.org/d3.v3.min\\\"};\\n\\n\\n\\n    var shim = {\\\"d3\\\":{\\\"exports\\\":\\\"d3\\\"}};\\n\\n    require.config({paths: path, shim:shim});\\n\\n\\nrequire(['d3'], function(d3){window['d3']=d3;console.log('finished loading d3');\\n\\n\\tvar script = d3.select(\\\"head\\\")\\n\\t    .append(\\\"script\\\")\\n\\t    .attr(\\\"src\\\", \\\"https://rawgit.com/domitry/Nyaplotjs/master/release/nyaplot.js\\\")\\n\\t    .attr(\\\"async\\\", true);\\n\\n\\tscript[0][0].onload = script[0][0].onreadystatechange = function(){\\n\\n\\n\\t    var event = document.createEvent(\\\"HTMLEvents\\\");\\n\\t    event.initEvent(\\\"load_nyaplot\\\",false,false);\\n\\t    window.dispatchEvent(event);\\n\\t    console.log('Finished loading Nyaplotjs');\\n\\n\\t};\\n\\n\\n});\\n}\\n\""
       ]
      },
      {
       "metadata": {},
       "output_type": "pyout",
       "prompt_number": 1,
       "text": [
        "true"
       ]
      }
     ],
     "prompt_number": 1
    },
    {
     "cell_type": "code",
     "collapsed": false,
     "input": [
      "include Mathmas"
     ],
     "language": "python",
     "metadata": {},
     "outputs": [
      {
       "metadata": {},
       "output_type": "pyout",
       "prompt_number": 2,
       "text": [
        "Object"
       ]
      }
     ],
     "prompt_number": 2
    },
    {
     "cell_type": "code",
     "collapsed": false,
     "input": [
      "expr = 1/x"
     ],
     "language": "python",
     "metadata": {},
     "outputs": [
      {
       "html": [
        "<script type=\"math/tex; mode=display\">\\frac{1}{x}</script>"
       ],
       "metadata": {},
       "output_type": "pyout",
       "prompt_number": 3,
       "text": [
        "#<Mathmas::Power:0xb926e404 @args=[#<Mathmas::Variable:0xb926e454 @symbol=:x>, #<Mathmas::Number:0xb926e418 @num=-1>]>"
       ]
      }
     ],
     "prompt_number": 3
    },
    {
     "cell_type": "code",
     "collapsed": false,
     "input": [
      "expr.exec(x: 3)"
     ],
     "language": "python",
     "metadata": {},
     "outputs": [
      {
       "metadata": {},
       "output_type": "pyout",
       "prompt_number": 4,
       "text": [
        "(1/3)"
       ]
      }
     ],
     "prompt_number": 4
    },
    {
     "cell_type": "code",
     "collapsed": false,
     "input": [
      "expr.exec(x: 1)"
     ],
     "language": "python",
     "metadata": {},
     "outputs": [
      {
       "metadata": {},
       "output_type": "pyout",
       "prompt_number": 14,
       "text": [
        "1"
       ]
      }
     ],
     "prompt_number": 14
    },
    {
     "cell_type": "code",
     "collapsed": false,
     "input": [
      "f(x) <= 1/x"
     ],
     "language": "python",
     "metadata": {},
     "outputs": [
      {
       "html": [
        "<script type=\"math/tex; mode=display\">\\frac{1}{x}</script>"
       ],
       "metadata": {},
       "output_type": "pyout",
       "prompt_number": 5,
       "text": [
        "#<Mathmas::Power:0xb929d36c @args=[#<Mathmas::Variable:0xb929d3bc @symbol=:x>, #<Mathmas::Number:0xb929d380 @num=-1>]>"
       ]
      }
     ],
     "prompt_number": 5
    },
    {
     "cell_type": "code",
     "collapsed": false,
     "input": [
      "f"
     ],
     "language": "python",
     "metadata": {},
     "outputs": [
      {
       "html": [
        "<script type=\"math/tex; mode=display\">f(x) = \\frac{1}{x}</script>"
       ],
       "metadata": {},
       "output_type": "pyout",
       "prompt_number": 6,
       "text": [
        "#<Mathmas::Function:0xb929d470 @expr=#<Mathmas::Power:0xb929d36c @args=[#<Mathmas::Variable:0xb929d3bc @symbol=:x>, #<Mathmas::Number:0xb929d380 @num=-1>]>, @name=:f, @vals=[#<Mathmas::Variable:0xb929d538 @symbol=:x>]>"
       ]
      }
     ],
     "prompt_number": 6
    },
    {
     "cell_type": "code",
     "collapsed": false,
     "input": [
      "f(3)"
     ],
     "language": "python",
     "metadata": {},
     "outputs": [
      {
       "metadata": {},
       "output_type": "pyout",
       "prompt_number": 7,
       "text": [
        "(1/3)"
       ]
      }
     ],
     "prompt_number": 7
    },
    {
     "cell_type": "code",
     "collapsed": false,
     "input": [
      "f.plot(x: 1..3)"
     ],
     "language": "python",
     "metadata": {},
     "outputs": [
      {
       "output_type": "stream",
       "stream": "stdout",
       "text": [
        "[\"x\"]"
       ]
      },
      {
       "html": [
        "<div id='vis-3d47f722-9a77-44d2-8740-c565324b29c7'></div>\n",
        "<script>\n",
        "(function(){\n",
        "    var render = function(){\n",
        "        var model = {\"panes\":[{\"diagrams\":[{\"type\":\"line\",\"options\":{\"x\":\"data0\",\"y\":\"data1\"},\"data\":\"8e5690f7-0b93-4997-8ccb-5a25e77fa843\"}],\"options\":{\"x_label\":\"x\",\"y_label\":\"f(x) = x^-1\",\"zoom\":true,\"width\":700,\"xrange\":[1.0,3.0],\"yrange\":[0.3333333333333333,1.0]}}],\"data\":{\"8e5690f7-0b93-4997-8ccb-5a25e77fa843\":[{\"data0\":1.0,\"data1\":1.0},{\"data0\":1.02020202020202,\"data1\":0.9801980198019803},{\"data0\":1.0404040404040404,\"data1\":0.9611650485436893},{\"data0\":1.0606060606060606,\"data1\":0.942857142857143},{\"data0\":1.0808080808080809,\"data1\":0.925233644859813},{\"data0\":1.101010101010101,\"data1\":0.908256880733945},{\"data0\":1.121212121212121,\"data1\":0.891891891891892},{\"data0\":1.1414141414141414,\"data1\":0.8761061946902655},{\"data0\":1.1616161616161615,\"data1\":0.8608695652173913},{\"data0\":1.1818181818181819,\"data1\":0.8461538461538461},{\"data0\":1.202020202020202,\"data1\":0.8319327731092437},{\"data0\":1.2222222222222223,\"data1\":0.8181818181818181},{\"data0\":1.2424242424242424,\"data1\":0.8048780487804879},{\"data0\":1.2626262626262625,\"data1\":0.792},{\"data0\":1.2828282828282829,\"data1\":0.7795275590551181},{\"data0\":1.303030303030303,\"data1\":0.7674418604651163},{\"data0\":1.3232323232323233,\"data1\":0.7557251908396946},{\"data0\":1.3434343434343434,\"data1\":0.7443609022556391},{\"data0\":1.3636363636363638,\"data1\":0.7333333333333333},{\"data0\":1.3838383838383839,\"data1\":0.7226277372262774},{\"data0\":1.404040404040404,\"data1\":0.7122302158273381},{\"data0\":1.4242424242424243,\"data1\":0.7021276595744681},{\"data0\":1.4444444444444444,\"data1\":0.6923076923076923},{\"data0\":1.4646464646464648,\"data1\":0.6827586206896551},{\"data0\":1.4848484848484849,\"data1\":0.673469387755102},{\"data0\":1.5050505050505052,\"data1\":0.6644295302013422},{\"data0\":1.5252525252525253,\"data1\":0.6556291390728477},{\"data0\":1.5454545454545454,\"data1\":0.6470588235294118},{\"data0\":1.5656565656565657,\"data1\":0.6387096774193548},{\"data0\":1.5858585858585859,\"data1\":0.6305732484076433},{\"data0\":1.606060606060606,\"data1\":0.6226415094339623},{\"data0\":1.6262626262626263,\"data1\":0.6149068322981366},{\"data0\":1.6464646464646466,\"data1\":0.607361963190184},{\"data0\":1.6666666666666667,\"data1\":0.6},{\"data0\":1.6868686868686869,\"data1\":0.592814371257485},{\"data0\":1.7070707070707072,\"data1\":0.5857988165680473},{\"data0\":1.7272727272727273,\"data1\":0.5789473684210527},{\"data0\":1.7474747474747474,\"data1\":0.5722543352601156},{\"data0\":1.7676767676767677,\"data1\":0.5657142857142857},{\"data0\":1.787878787878788,\"data1\":0.559322033898305},{\"data0\":1.8080808080808082,\"data1\":0.5530726256983239},{\"data0\":1.8282828282828283,\"data1\":0.5469613259668509},{\"data0\":1.8484848484848486,\"data1\":0.540983606557377},{\"data0\":1.8686868686868687,\"data1\":0.5351351351351351},{\"data0\":1.8888888888888888,\"data1\":0.5294117647058824},{\"data0\":1.9090909090909092,\"data1\":0.5238095238095238},{\"data0\":1.9292929292929295,\"data1\":0.5183246073298429},{\"data0\":1.9494949494949496,\"data1\":0.5129533678756476},{\"data0\":1.9696969696969697,\"data1\":0.5076923076923077},{\"data0\":1.98989898989899,\"data1\":0.5025380710659898},{\"data0\":2.0101010101010104,\"data1\":0.4974874371859296},{\"data0\":2.0303030303030303,\"data1\":0.49253731343283585},{\"data0\":2.0505050505050506,\"data1\":0.48768472906403937},{\"data0\":2.070707070707071,\"data1\":0.4829268292682926},{\"data0\":2.090909090909091,\"data1\":0.4782608695652174},{\"data0\":2.111111111111111,\"data1\":0.47368421052631576},{\"data0\":2.1313131313131315,\"data1\":0.4691943127962085},{\"data0\":2.1515151515151514,\"data1\":0.46478873239436624},{\"data0\":2.1717171717171717,\"data1\":0.4604651162790698},{\"data0\":2.191919191919192,\"data1\":0.456221198156682},{\"data0\":2.212121212121212,\"data1\":0.452054794520548},{\"data0\":2.2323232323232327,\"data1\":0.4479638009049773},{\"data0\":2.2525252525252526,\"data1\":0.4439461883408072},{\"data0\":2.272727272727273,\"data1\":0.43999999999999995},{\"data0\":2.2929292929292933,\"data1\":0.4361233480176211},{\"data0\":2.313131313131313,\"data1\":0.43231441048034935},{\"data0\":2.3333333333333335,\"data1\":0.42857142857142855},{\"data0\":2.353535353535354,\"data1\":0.42489270386266087},{\"data0\":2.3737373737373737,\"data1\":0.42127659574468085},{\"data0\":2.393939393939394,\"data1\":0.4177215189873418},{\"data0\":2.4141414141414144,\"data1\":0.4142259414225941},{\"data0\":2.4343434343434343,\"data1\":0.41078838174273863},{\"data0\":2.4545454545454546,\"data1\":0.4074074074074074},{\"data0\":2.474747474747475,\"data1\":0.4040816326530612},{\"data0\":2.494949494949495,\"data1\":0.4008097165991903},{\"data0\":2.5151515151515156,\"data1\":0.3975903614457831},{\"data0\":2.5353535353535355,\"data1\":0.3944223107569721},{\"data0\":2.5555555555555554,\"data1\":0.391304347826087},{\"data0\":2.575757575757576,\"data1\":0.388235294117647},{\"data0\":2.595959595959596,\"data1\":0.38521400778210113},{\"data0\":2.6161616161616164,\"data1\":0.3822393822393822},{\"data0\":2.6363636363636367,\"data1\":0.3793103448275862},{\"data0\":2.6565656565656566,\"data1\":0.376425855513308},{\"data0\":2.676767676767677,\"data1\":0.37358490566037733},{\"data0\":2.6969696969696972,\"data1\":0.37078651685393255},{\"data0\":2.717171717171717,\"data1\":0.3680297397769517},{\"data0\":2.7373737373737375,\"data1\":0.36531365313653136},{\"data0\":2.757575757575758,\"data1\":0.3626373626373626},{\"data0\":2.7777777777777777,\"data1\":0.36},{\"data0\":2.7979797979797985,\"data1\":0.35740072202166057},{\"data0\":2.8181818181818183,\"data1\":0.3548387096774193},{\"data0\":2.8383838383838382,\"data1\":0.3523131672597865},{\"data0\":2.858585858585859,\"data1\":0.34982332155477025},{\"data0\":2.878787878787879,\"data1\":0.34736842105263155},{\"data0\":2.8989898989898992,\"data1\":0.34494773519163763},{\"data0\":2.9191919191919196,\"data1\":0.34256055363321797},{\"data0\":2.9393939393939394,\"data1\":0.3402061855670103},{\"data0\":2.95959595959596,\"data1\":0.3378839590443686},{\"data0\":2.97979797979798,\"data1\":0.33559322033898303},{\"data0\":3.0,\"data1\":0.3333333333333333}]},\"extension\":[]}\n",
        "        Nyaplot.core.parse(model, '#vis-3d47f722-9a77-44d2-8740-c565324b29c7');\n",
        "    };\n",
        "    if(window['Nyaplot']==undefined){\n",
        "        window.addEventListener('load_nyaplot', render, false);\n",
        "\treturn;\n",
        "    } else {\n",
        "       render();\n",
        "    }\n",
        "})();\n",
        "</script>\n"
       ],
       "metadata": {},
       "output_type": "pyout",
       "prompt_number": 9,
       "text": [
        "#<Nyaplot::Plot:0xb884c82c @properties={:diagrams=>[#<Nyaplot::Diagram:0xb8bbb454 @properties={:type=>:line, :options=>{:x=>\"data0\", :y=>\"data1\"}, :data=>\"8e5690f7-0b93-4997-8ccb-5a25e77fa843\"}, @xrange=[1.0, 3.0], @yrange=[0.3333333333333333, 1.0]>], :options=>{:x_label=>:x, :y_label=>\"f(x) = x^-1\", :zoom=>true, :width=>700, :xrange=>[1.0, 3.0], :yrange=>[0.3333333333333333, 1.0]}}>"
       ]
      }
     ],
     "prompt_number": 9
    },
    {
     "cell_type": "code",
     "collapsed": false,
     "input": [
      "g(x, y) <= (x + y)/(x**3 + y**2)"
     ],
     "language": "python",
     "metadata": {},
     "outputs": [
      {
       "html": [
        "<script type=\"math/tex; mode=display\">(x + y)*(\\frac{1}{(x^3 + y^2)})</script>"
       ],
       "metadata": {},
       "output_type": "pyout",
       "prompt_number": 11,
       "text": [
        "#<Mathmas::Multiply:0xb8c586c8 @args=[#<Mathmas::Plus:0xb8c58970 @args=[#<Mathmas::Variable:0xb8c58a24 @symbol=:x>, #<Mathmas::Variable:0xb8c58984 @symbol=:y>]>, #<Mathmas::Power:0xb8c586f0 @args=[#<Mathmas::Plus:0xb8c58740 @args=[#<Mathmas::Power:0xb8c58858 @args=[#<Mathmas::Variable:0xb8c58894 @symbol=:x>, #<Mathmas::Number:0xb8c5886c @num=3>]>, #<Mathmas::Power:0xb8c58768 @args=[#<Mathmas::Variable:0xb8c587a4 @symbol=:y>, #<Mathmas::Number:0xb8c58790 @num=2>]>]>, #<Mathmas::Number:0xb8c58704 @num=-1>]>]>"
       ]
      }
     ],
     "prompt_number": 11
    }
   ],
   "metadata": {}
  }
 ]
}